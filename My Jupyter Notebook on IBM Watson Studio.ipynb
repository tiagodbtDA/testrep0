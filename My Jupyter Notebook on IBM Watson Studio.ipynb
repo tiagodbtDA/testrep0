{
  "metadata": {
    "language_info": {
      "codemirror_mode": {
        "name": "python",
        "version": 3
      },
      "file_extension": ".py",
      "mimetype": "text/x-python",
      "name": "python",
      "nbconvert_exporter": "python",
      "pygments_lexer": "ipython3",
      "version": "3.8"
    },
    "kernelspec": {
      "name": "python",
      "display_name": "Python (Pyodide)",
      "language": "python"
    }
  },
  "nbformat_minor": 4,
  "nbformat": 4,
  "cells": [
    {
      "cell_type": "markdown",
      "source": "# My Jupyter Notebook on IBM Watson Studio",
      "metadata": {
        "tags": []
      }
    },
    {
      "cell_type": "markdown",
      "source": "**Tiago Teixeira**",
      "metadata": {
        "tags": []
      }
    },
    {
      "cell_type": "markdown",
      "source": "*I am interested in data science because i want to aquire more knowledge in the advance analytics*",
      "metadata": {}
    },
    {
      "cell_type": "markdown",
      "source": "### The code below is the summing of a and b variables, and display the output of this addition operation.",
      "metadata": {}
    },
    {
      "cell_type": "code",
      "source": "a = 5\nb = 5\nprint(a+b)",
      "metadata": {
        "trusted": true
      },
      "execution_count": 4,
      "outputs": [
        {
          "name": "stdout",
          "text": "10\n",
          "output_type": "stream"
        }
      ]
    },
    {
      "cell_type": "markdown",
      "source": "| header | header |\n| ------ | ------ |\n| cell | cell |\n<br>\n- 1st item\n- 2nd item\n    - 1st part of 2nd item\n<br>\n***\n<br>\n    1. item\n    2. item\n        2.1 item",
      "metadata": {}
    },
    {
      "cell_type": "markdown",
      "source": "",
      "metadata": {}
    }
  ]
}